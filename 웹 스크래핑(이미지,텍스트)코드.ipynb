{
 "cells": [
  {
   "cell_type": "code",
   "execution_count": 1,
   "id": "be26dea2",
   "metadata": {},
   "outputs": [
    {
     "name": "stdout",
     "output_type": "stream",
     "text": [
      "이미지 주소: http://localhost:5000/static/uploads/image_1.jpg\n",
      "이미지 저장: images\\0.jpg\n",
      "이미지 설명: \n",
      "설명 저장: images\\0_description.txt\n",
      "==================================================\n",
      "이미지 주소: http://localhost:5000/static/uploads/image_2.jpg\n",
      "이미지 저장: images\\1.jpg\n",
      "이미지 설명: not yet...\n",
      "설명 저장: images\\1_description.txt\n",
      "==================================================\n",
      "이미지 주소: http://localhost:5000/static/uploads/image_3.jpg\n",
      "이미지 저장: images\\2.jpg\n",
      "이미지 설명: \n",
      "설명 저장: images\\2_description.txt\n",
      "==================================================\n"
     ]
    }
   ],
   "source": [
    "from selenium import webdriver\n",
    "import os\n",
    "import requests\n",
    "from bs4 import BeautifulSoup\n",
    "from urllib.parse import urljoin\n",
    "\n",
    "# Flask 서버 실행 주소\n",
    "url = 'http://localhost:5000/display'\n",
    "\n",
    "# Selenium을 이용하여 JavaScript 렌더링 후의 HTML을 가져오기\n",
    "driver = webdriver.Chrome()  # 브라우저 드라이버 경로에 맞게 수정\n",
    "driver.get(url)\n",
    "html = driver.page_source\n",
    "driver.quit()\n",
    "\n",
    "# BeautifulSoup을 사용하여 HTML 파싱\n",
    "soup = BeautifulSoup(html, 'html.parser')\n",
    "\n",
    "# 이미지 및 설명 저장을 위한 디렉토리 생성\n",
    "os.makedirs('images', exist_ok=True)\n",
    "\n",
    "# 이미지 주소 및 설명 추출 및 저장\n",
    "for i, (img_tag, desc_tag) in enumerate(zip(soup.find_all('img'), soup.find_all('td', class_=None))):\n",
    "    img_src = urljoin(url, img_tag.get('src'))\n",
    "    img_data = requests.get(img_src).content\n",
    "\n",
    "    # 이미지 저장\n",
    "    img_filename = os.path.join('images', f\"{i}.jpg\")\n",
    "    with open(img_filename, 'wb') as img_file:\n",
    "        img_file.write(img_data)\n",
    "\n",
    "    # 설명 저장\n",
    "    desc_text = desc_tag.get_text(strip=True)\n",
    "    desc_filename = os.path.join('images', f\"{i}_description.txt\")\n",
    "    with open(desc_filename, 'w') as desc_file:\n",
    "        desc_file.write(desc_text)\n",
    "\n",
    "    print(f\"이미지 주소: {img_src}\")\n",
    "    print(f\"이미지 저장: {img_filename}\")\n",
    "    print(f\"이미지 설명: {desc_text}\")\n",
    "    print(f\"설명 저장: {desc_filename}\")\n",
    "    print(\"=\" * 50)\n"
   ]
  },
  {
   "cell_type": "code",
   "execution_count": null,
   "id": "f6196a4f",
   "metadata": {},
   "outputs": [],
   "source": []
  }
 ],
 "metadata": {
  "kernelspec": {
   "display_name": "Python 3 (ipykernel)",
   "language": "python",
   "name": "python3"
  },
  "language_info": {
   "codemirror_mode": {
    "name": "ipython",
    "version": 3
   },
   "file_extension": ".py",
   "mimetype": "text/x-python",
   "name": "python",
   "nbconvert_exporter": "python",
   "pygments_lexer": "ipython3",
   "version": "3.11.4"
  }
 },
 "nbformat": 4,
 "nbformat_minor": 5
}
